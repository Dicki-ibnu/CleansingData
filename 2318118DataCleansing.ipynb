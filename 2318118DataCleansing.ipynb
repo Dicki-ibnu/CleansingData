{
  "nbformat": 4,
  "nbformat_minor": 0,
  "metadata": {
    "colab": {
      "provenance": [],
      "authorship_tag": "ABX9TyPAvxKum1eZNsnwJchywRhd",
      "include_colab_link": true
    },
    "kernelspec": {
      "name": "python3",
      "display_name": "Python 3"
    },
    "language_info": {
      "name": "python"
    }
  },
  "cells": [
    {
      "cell_type": "markdown",
      "metadata": {
        "id": "view-in-github",
        "colab_type": "text"
      },
      "source": [
        "<a href=\"https://colab.research.google.com/github/Dicki-ibnu/CleansingData/blob/main/2318118DataCleansing.ipynb\" target=\"_parent\"><img src=\"https://colab.research.google.com/assets/colab-badge.svg\" alt=\"Open In Colab\"/></a>"
      ]
    },
    {
      "cell_type": "markdown",
      "source": [
        "# 1. Menyambungkan Google Drive"
      ],
      "metadata": {
        "id": "96DjV7vzVHOJ"
      }
    },
    {
      "cell_type": "code",
      "execution_count": null,
      "metadata": {
        "colab": {
          "base_uri": "https://localhost:8080/"
        },
        "id": "b8wyhI8S0MCm",
        "outputId": "8e4d20f2-a349-4c2f-8fc6-3a3990bb4943"
      },
      "outputs": [
        {
          "output_type": "stream",
          "name": "stdout",
          "text": [
            "Mounted at /content/drive\n"
          ]
        }
      ],
      "source": [
        "\n",
        "from google.colab import drive\n",
        "drive.mount('/content/drive')\n"
      ]
    },
    {
      "cell_type": "markdown",
      "source": [
        "#2. Import Library"
      ],
      "metadata": {
        "id": "_Co8iNqRVXho"
      }
    },
    {
      "cell_type": "code",
      "source": [
        "import pandas as pd\n",
        "import numpy as np"
      ],
      "metadata": {
        "id": "Z9qiwaB441hv"
      },
      "execution_count": null,
      "outputs": []
    },
    {
      "cell_type": "markdown",
      "source": [
        "#3. Baca file Excel\n"
      ],
      "metadata": {
        "id": "_EcsdTUA0Uk9"
      }
    },
    {
      "cell_type": "code",
      "source": [
        "file_path = '/content/drive/MyDrive/Colab Notebooks/data_kotor(1).xlsx'\n",
        "df = pd.read_excel(file_path)"
      ],
      "metadata": {
        "id": "fHrdLGo00nW-"
      },
      "execution_count": null,
      "outputs": []
    },
    {
      "cell_type": "markdown",
      "source": [
        "#4. Cek Informasi Dataset (Sebelum Cleansing)"
      ],
      "metadata": {
        "id": "dDFTBvH88ErS"
      }
    },
    {
      "cell_type": "code",
      "source": [
        "print(\"=== Informasi Dataset Sebelum Cleansing ===\")\n",
        "print(df.info())\n",
        "print(\"\\nJumlah Data:\", df.shape)\n",
        "print(\"\\n5 Baris Pertama:\")\n",
        "print(df.head())"
      ],
      "metadata": {
        "colab": {
          "base_uri": "https://localhost:8080/"
        },
        "id": "OzWmkd8H8FnA",
        "outputId": "16e3785d-7b8d-401e-feef-305a9e55063d"
      },
      "execution_count": null,
      "outputs": [
        {
          "output_type": "stream",
          "name": "stdout",
          "text": [
            "=== Informasi Dataset Sebelum Cleansing ===\n",
            "<class 'pandas.core.frame.DataFrame'>\n",
            "RangeIndex: 472 entries, 0 to 471\n",
            "Data columns (total 12 columns):\n",
            " #   Column                                                                Non-Null Count  Dtype         \n",
            "---  ------                                                                --------------  -----         \n",
            " 0                                                                         463 non-null    datetime64[ns]\n",
            " 1   Nama Lengkap                                                          463 non-null    object        \n",
            " 2   Usia/Umur                                                             463 non-null    object        \n",
            " 3   Jenis Kelamin                                                         463 non-null    object        \n",
            " 4   Pekerjaan saat ini                                                    463 non-null    object        \n",
            " 5   Hobi Yang Anda Minati                                                 461 non-null    object        \n",
            " 6   Lingkungan Kerja Yang Anda Inginkan                                   463 non-null    object        \n",
            " 7   Gaji Yang Anda Inginkan                                               464 non-null    object        \n",
            " 8   Apakah Anda Lebih Suka Bekerja Di Desa Atau Di Kota                   463 non-null    object        \n",
            " 9   Anda Lebih Tertarik Pada Bidang?                                      463 non-null    object        \n",
            " 10  Manakah Yang Lebih Anda Tertarik                                      463 non-null    object        \n",
            " 11  Keterampilan Apa Yang Anda Miliki Serta Yang Ingin Anda Kembangkan.   463 non-null    object        \n",
            "dtypes: datetime64[ns](1), object(11)\n",
            "memory usage: 44.4+ KB\n",
            "None\n",
            "\n",
            "Jumlah Data: (472, 12)\n",
            "\n",
            "5 Baris Pertama:\n",
            "                                       Nama Lengkap Usia/Umur Jenis Kelamin  \\\n",
            "0 2023-12-14 21:05:05.176         Siti Rahmah Basri        19     Perempuan   \n",
            "1 2023-12-14 21:08:54.827              Vivi puspita        19     Perempuan   \n",
            "2 2023-12-14 21:09:02.780        Dela Puspita Helmi        18     Perempuan   \n",
            "3 2023-12-14 21:09:21.185     nadya elfareta azarin  19 tahun     Perempuan   \n",
            "4 2023-12-14 21:17:04.976  Muh. Aprizal Arya Sandi         19          Pria   \n",
            "\n",
            "  Pekerjaan saat ini   Hobi Yang Anda Minati  \\\n",
            "0          Mahasiswa  Bulutangkis dan Renang   \n",
            "1            Pelajar                Berenang   \n",
            "2          Mahasiswa              Badmintoon   \n",
            "3          mahasiswa             nonton film   \n",
            "4           Pelajar       Olahraga dan musik   \n",
            "\n",
            "  Lingkungan Kerja Yang Anda Inginkan Gaji Yang Anda Inginkan  \\\n",
            "0                    Nyaman dan Ramah                 5000000   \n",
            "1                     Nyaman , tenang           Di atas 3juta   \n",
            "2                                BUMN                   20 JT   \n",
            "3                    nyaman dan ramah                50000000   \n",
            "4  Tenang dan masih banyak pepohonan              6jt ke atas   \n",
            "\n",
            "  Apakah Anda Lebih Suka Bekerja Di Desa Atau Di Kota  \\\n",
            "0                                           Di Kota     \n",
            "1                               Suka bekerja di kota    \n",
            "2                                             Dikota    \n",
            "3                                            Di Kota    \n",
            "4                                      Desa dan kota    \n",
            "\n",
            "  Anda Lebih Tertarik Pada Bidang? Manakah Yang Lebih Anda Tertarik   \\\n",
            "0                     Non Akademik                         Teknologi   \n",
            "1                             Seni                         Teknologi   \n",
            "2                     Non Akademik                         Teknologi   \n",
            "3                     Non Akademik                            Teknik   \n",
            "4                             Seni                         Teknologi   \n",
            "\n",
            "  Keterampilan Apa Yang Anda Miliki Serta Yang Ingin Anda Kembangkan.   \n",
            "0  Membaca Yang Ingin Saya Kembangkan yakni Pemro...                    \n",
            "1                                          Mendesain                    \n",
            "2                                             Coding                    \n",
            "3                                          tidak ada                    \n",
            "4                                     Bermain gitar                     \n"
          ]
        }
      ]
    },
    {
      "cell_type": "markdown",
      "source": [
        "#5. Hapus Kolom Tanggal (Karena tidak relevan)"
      ],
      "metadata": {
        "id": "AVdEjsVqPIZa"
      }
    },
    {
      "cell_type": "code",
      "source": [
        "df_clean = df.drop(df.columns[0], axis=1)"
      ],
      "metadata": {
        "id": "djIXO1a6JR4X"
      },
      "execution_count": null,
      "outputs": []
    },
    {
      "cell_type": "markdown",
      "source": [
        "#6. Mengurutkan Nama sesuai Abjad (A-Z)"
      ],
      "metadata": {
        "id": "uNRzLxDgJxW5"
      }
    },
    {
      "cell_type": "code",
      "source": [
        "df_clean = df_clean.sort_values(by=\"Nama Lengkap\", ascending=True)\n",
        "df_clean[\"Nama Lengkap\"] = df_clean[\"Nama Lengkap\"].str.title()"
      ],
      "metadata": {
        "id": "GuXZuRjaJyFZ"
      },
      "execution_count": null,
      "outputs": []
    },
    {
      "cell_type": "markdown",
      "source": [
        "#7. Hilangkan kata tahun, Tahun, Thn, THN, thn di kolom \"Usia/Umur\""
      ],
      "metadata": {
        "id": "rjOzCUkcl0eO"
      }
    },
    {
      "cell_type": "code",
      "source": [
        "df_clean[\"Usia/Umur\"] = (\n",
        "    df_clean[\"Usia/Umur\"]\n",
        "    .astype(str)\n",
        "    .str.replace(r\"(tahun|Tahun|Thn|THN|thn|Thun|thun|thm|tahn|th|Th|TH)\", \"\", regex=True)\n",
        "    .str.strip()\n",
        ")"
      ],
      "metadata": {
        "id": "YmWAKX02l3NN"
      },
      "execution_count": null,
      "outputs": []
    },
    {
      "cell_type": "markdown",
      "source": [
        "#8. Ganti \"-\" dengan \"Belum Bekerja\" dan kapitalisasi pekerjaan"
      ],
      "metadata": {
        "id": "KSgcHW5aopJS"
      }
    },
    {
      "cell_type": "code",
      "source": [
        "df_clean[\"Pekerjaan saat ini\"] = (\n",
        "    df_clean[\"Pekerjaan saat ini\"]\n",
        "    .replace(\"-\", \"Belum Bekerja\")\n",
        "    .str.title()\n",
        ")"
      ],
      "metadata": {
        "id": "mCYU_RU7orCS"
      },
      "execution_count": null,
      "outputs": []
    },
    {
      "cell_type": "markdown",
      "source": [
        "#9. Hapus kolom \"Lingkungan Kerja Yang Anda Inginkan\""
      ],
      "metadata": {
        "id": "G2PtD00aoujx"
      }
    },
    {
      "cell_type": "code",
      "source": [
        "if \"Lingkungan Kerja Yang Anda Inginkan\" in df_clean.columns:\n",
        "    df_clean = df_clean.drop(columns=[\"Lingkungan Kerja Yang Anda Inginkan\"])"
      ],
      "metadata": {
        "id": "l-Tr3kNFoxqE"
      },
      "execution_count": null,
      "outputs": []
    },
    {
      "cell_type": "markdown",
      "source": [
        "#10. Bersihkan kolom \"Gaji Yang Anda Inginkan\""
      ],
      "metadata": {
        "id": "OchF7zDLo1tu"
      }
    },
    {
      "cell_type": "code",
      "source": [
        "def clean_gaji(val):\n",
        "    if pd.isna(val):\n",
        "        return np.nan\n",
        "\n",
        "    val = str(val).lower().replace(\" \", \"\")\n",
        "\n",
        "    # Normalisasi kata-kata umum\n",
        "    val = val.replace(\"jt\", \"000000\").replace(\"juta\", \"000000\")\n",
        "    val = val.replace(\"keatas\", \"\").replace(\"keatasnya\", \"\")\n",
        "    val = val.replace(\"k\", \"000\")\n",
        "\n",
        "    # Ambil hanya angka\n",
        "    angka = \"\".join([c for c in val if c.isdigit()])\n",
        "    if angka == \"\":\n",
        "        return np.nan\n",
        "\n",
        "    angka = int(angka)\n",
        "\n",
        "    # Hitung panjang digit\n",
        "    digit = len(str(angka))\n",
        "\n",
        "    # Normalisasi ke jutaan (6 nol)\n",
        "    if digit > 7:\n",
        "        # contoh 50000000 (8 digit) → jadi 5000000\n",
        "        angka = int(str(angka)[:7])\n",
        "    elif digit < 7:\n",
        "        # contoh 500000 (6 digit) → jadi 5000000\n",
        "        angka = angka * (10 ** (7 - digit))\n",
        "\n",
        "    return angka\n",
        "\n",
        "\n",
        "# Terapkan ke kolom\n",
        "df_clean[\"Gaji Yang Anda Inginkan\"] = df_clean[\"Gaji Yang Anda Inginkan\"].apply(clean_gaji)\n",
        "\n",
        "# Ganti nilai NaN dengan median\n",
        "median_gaji = df_clean[\"Gaji Yang Anda Inginkan\"].median()\n",
        "df_clean[\"Gaji Yang Anda Inginkan\"] = df_clean[\"Gaji Yang Anda Inginkan\"].fillna(median_gaji)\n"
      ],
      "metadata": {
        "id": "OgB0qVUPo5D0"
      },
      "execution_count": null,
      "outputs": []
    },
    {
      "cell_type": "markdown",
      "source": [
        "#11.  Bersihkan kolom \"Apakah Anda Lebih Suka Bekerja Di Desa Atau Di Kota\""
      ],
      "metadata": {
        "id": "Y2NEpFjmB0ce"
      }
    },
    {
      "cell_type": "code",
      "source": [
        "col = \"Apakah Anda Lebih Suka Bekerja Di Desa Atau Di Kota\"\n",
        "\n",
        "# Hilangkan kata \"Di\", normalisasi ke huruf kecil\n",
        "df_clean[col] = (\n",
        "    df_clean[col]\n",
        "    .astype(str)\n",
        "    .str.replace(\"Di\", \"\", case=False, regex=True)  # hapus kata \"Di\" atau \"di\"\n",
        "    .str.strip()\n",
        "    .str.lower()\n",
        ")\n",
        "\n",
        "# Mapping untuk string aneh\n",
        "mapping = {\n",
        "    \"dikota\": \"kota\",\n",
        "    \"desa dan kota\": \"kota\",       # kalau campuran, kita pilih \"kota\"\n",
        "    \"suka bekerja di kota\": \"kota\"\n",
        "}\n",
        "df_clean[col] = df_clean[col].replace(mapping)\n",
        "\n",
        "# Jika ada nilai selain \"kota\" dan \"desa\", ubah jadi modus\n",
        "valid_values = [\"kota\", \"desa\"]\n",
        "modus = df_clean[col][df_clean[col].isin(valid_values)].mode()[0]\n",
        "df_clean.loc[~df_clean[col].isin(valid_values), col] = modus"
      ],
      "metadata": {
        "id": "fVplzMKIB4aE"
      },
      "execution_count": null,
      "outputs": []
    },
    {
      "cell_type": "markdown",
      "source": [
        "#12. Persingkat kolom keterampilan"
      ],
      "metadata": {
        "id": "w7xe2KjRCGa4"
      }
    },
    {
      "cell_type": "code",
      "source": [
        "# Pilih kolom keterampilan\n",
        "col_skill = \"Keterampilan Apa Yang Anda Miliki Serta Yang Ingin Anda Kembangkan. \"\n",
        "\n",
        "# Fungsi untuk memotong kalimat jadi beberapa kata pertama\n",
        "def shorten_text(text, n=3):\n",
        "    if pd.isna(text):\n",
        "        return text\n",
        "    words = str(text).split()\n",
        "    return \" \".join(words[:n])  # ambil n kata pertama\n",
        "\n",
        "# Terapkan fungsi ke kolom\n",
        "df_clean[col_skill] = df_clean[col_skill].apply(lambda x: shorten_text(x, n=3))\n"
      ],
      "metadata": {
        "id": "ke9WI-HSHRD0"
      },
      "execution_count": null,
      "outputs": []
    },
    {
      "cell_type": "markdown",
      "source": [
        "#13. CEK INFORMASI DATASET SETELAH CLEANSING"
      ],
      "metadata": {
        "id": "W1zjh38Zl_BB"
      }
    },
    {
      "cell_type": "code",
      "source": [
        "print(\"\\n=== Informasi Dataset Setelah Cleansing ===\")\n",
        "print(df_clean.info())\n",
        "print(\"\\nJumlah Data:\", df_clean.shape)\n",
        "print(\"\\n5 Baris Pertama Setelah Cleansing:\")\n",
        "print(df_clean.head())\n"
      ],
      "metadata": {
        "colab": {
          "base_uri": "https://localhost:8080/"
        },
        "id": "9oH7j1BemBW6",
        "outputId": "a1563469-b2d5-4e4b-b20b-ad750bfce460"
      },
      "execution_count": null,
      "outputs": [
        {
          "output_type": "stream",
          "name": "stdout",
          "text": [
            "\n",
            "=== Informasi Dataset Setelah Cleansing ===\n",
            "<class 'pandas.core.frame.DataFrame'>\n",
            "Index: 472 entries, 106 to 471\n",
            "Data columns (total 10 columns):\n",
            " #   Column                                                                Non-Null Count  Dtype  \n",
            "---  ------                                                                --------------  -----  \n",
            " 0   Nama Lengkap                                                          463 non-null    object \n",
            " 1   Usia/Umur                                                             472 non-null    object \n",
            " 2   Jenis Kelamin                                                         463 non-null    object \n",
            " 3   Pekerjaan saat ini                                                    463 non-null    object \n",
            " 4   Hobi Yang Anda Minati                                                 461 non-null    object \n",
            " 5   Gaji Yang Anda Inginkan                                               472 non-null    float64\n",
            " 6   Apakah Anda Lebih Suka Bekerja Di Desa Atau Di Kota                   472 non-null    object \n",
            " 7   Anda Lebih Tertarik Pada Bidang?                                      463 non-null    object \n",
            " 8   Manakah Yang Lebih Anda Tertarik                                      463 non-null    object \n",
            " 9   Keterampilan Apa Yang Anda Miliki Serta Yang Ingin Anda Kembangkan.   463 non-null    object \n",
            "dtypes: float64(1), object(9)\n",
            "memory usage: 40.6+ KB\n",
            "None\n",
            "\n",
            "Jumlah Data: (472, 10)\n",
            "\n",
            "5 Baris Pertama Setelah Cleansing:\n",
            "                 Nama Lengkap Usia/Umur Jenis Kelamin Pekerjaan saat ini  \\\n",
            "106         Adhe Rizky Fauzie        17     Perempuan            Pelajar   \n",
            "107         Adiba Dewi Yusifa        19     Perempuan         Wiraswasta   \n",
            "178         Adin Rafael Lyano        19          Pria          Mahasiswa   \n",
            "43   Aqila Tri Annur Fadillah        19     Perempuan          Mahasiswa   \n",
            "291                       Aan        28          Pria         Pengusaha    \n",
            "\n",
            "    Hobi Yang Anda Minati  Gaji Yang Anda Inginkan  \\\n",
            "106       Olahraga basket                1500000.0   \n",
            "107      Rebahan, healing                2000000.0   \n",
            "178            sepak bola                5000000.0   \n",
            "43               Berenang                3500000.0   \n",
            "291         Bermain piano                3000000.0   \n",
            "\n",
            "    Apakah Anda Lebih Suka Bekerja Di Desa Atau Di Kota  \\\n",
            "106                                               kota    \n",
            "107                                               kota    \n",
            "178                                               kota    \n",
            "43                                                kota    \n",
            "291                                               kota    \n",
            "\n",
            "    Anda Lebih Tertarik Pada Bidang? Manakah Yang Lebih Anda Tertarik   \\\n",
            "106                             Seni                         Teknologi   \n",
            "107                         Akademik                             HUKUM   \n",
            "178                     Non Akademik                         Teknologi   \n",
            "43                      Non Akademik                         Teknologi   \n",
            "291                             Seni                         Teknologi   \n",
            "\n",
            "    Keterampilan Apa Yang Anda Miliki Serta Yang Ingin Anda Kembangkan.   \n",
            "106                    Bermain basket,ingin berkembang                    \n",
            "107                       Keterampilan berusaha, skill                    \n",
            "178                                bermain sepak bolaa                    \n",
            "43                                               Gatau                    \n",
            "291                                      Bermain piano                    \n"
          ]
        }
      ]
    },
    {
      "cell_type": "markdown",
      "source": [
        "#14. melihat hasil"
      ],
      "metadata": {
        "id": "cw6NKivrKBqp"
      }
    },
    {
      "cell_type": "code",
      "source": [
        "df_clean.head(10)\n"
      ],
      "metadata": {
        "colab": {
          "base_uri": "https://localhost:8080/",
          "height": 764
        },
        "id": "b1OsRvvnKGE8",
        "outputId": "1667b4e6-2291-4be3-fc54-e9781e07781b"
      },
      "execution_count": null,
      "outputs": [
        {
          "output_type": "execute_result",
          "data": {
            "text/plain": [
              "                 Nama Lengkap Usia/Umur Jenis Kelamin Pekerjaan saat ini  \\\n",
              "106         Adhe Rizky Fauzie        17     Perempuan            Pelajar   \n",
              "107         Adiba Dewi Yusifa        19     Perempuan         Wiraswasta   \n",
              "178         Adin Rafael Lyano        19          Pria          Mahasiswa   \n",
              "43   Aqila Tri Annur Fadillah        19     Perempuan          Mahasiswa   \n",
              "291                       Aan        28          Pria         Pengusaha    \n",
              "202             Ade Rahmawati        27     Perempuan          Ahli Gizi   \n",
              "230        Ade Rezky Supriadi        19          Pria          Mahasiswa   \n",
              "271              Ade Sulastri        19     Perempuan          Mahasiswi   \n",
              "225           Adinda Septyani        19     Perempuan          Mahasiswi   \n",
              "258      Adiva Arsyila Savina        19     Perempuan          Mahasiswa   \n",
              "\n",
              "    Hobi Yang Anda Minati  Gaji Yang Anda Inginkan  \\\n",
              "106       Olahraga basket                1500000.0   \n",
              "107      Rebahan, healing                2000000.0   \n",
              "178            sepak bola                5000000.0   \n",
              "43               Berenang                3500000.0   \n",
              "291         Bermain piano                3000000.0   \n",
              "202             fotografi                1400000.0   \n",
              "230          Membaca buku                9000000.0   \n",
              "271              Berenang                8000000.0   \n",
              "225           Bulutangkis                6000000.0   \n",
              "258            Baca novel                5000000.0   \n",
              "\n",
              "    Apakah Anda Lebih Suka Bekerja Di Desa Atau Di Kota  \\\n",
              "106                                               kota    \n",
              "107                                               kota    \n",
              "178                                               kota    \n",
              "43                                                kota    \n",
              "291                                               kota    \n",
              "202                                               kota    \n",
              "230                                               kota    \n",
              "271                                               kota    \n",
              "225                                               kota    \n",
              "258                                               kota    \n",
              "\n",
              "    Anda Lebih Tertarik Pada Bidang? Manakah Yang Lebih Anda Tertarik   \\\n",
              "106                             Seni                         Teknologi   \n",
              "107                         Akademik                             HUKUM   \n",
              "178                     Non Akademik                         Teknologi   \n",
              "43                      Non Akademik                         Teknologi   \n",
              "291                             Seni                         Teknologi   \n",
              "202                            Sains                         Teknologi   \n",
              "230                     Non Akademik                        Matematika   \n",
              "271                             Seni                            Teknik   \n",
              "225                     Non Akademik                         Teknologi   \n",
              "258                             Seni                            Teknik   \n",
              "\n",
              "    Keterampilan Apa Yang Anda Miliki Serta Yang Ingin Anda Kembangkan.   \n",
              "106                    Bermain basket,ingin berkembang                    \n",
              "107                       Keterampilan berusaha, skill                    \n",
              "178                                bermain sepak bolaa                    \n",
              "43                                               Gatau                    \n",
              "291                                      Bermain piano                    \n",
              "202                                            berfoto                    \n",
              "230                                      Bermain musik                    \n",
              "271                                 Ingin menjadi chef                    \n",
              "225                                        Bulutangkis                    \n",
              "258                                           Menyanyi                    "
            ],
            "text/html": [
              "\n",
              "  <div id=\"df-78b24243-f854-4060-9de2-5991c3d85f7a\" class=\"colab-df-container\">\n",
              "    <div>\n",
              "<style scoped>\n",
              "    .dataframe tbody tr th:only-of-type {\n",
              "        vertical-align: middle;\n",
              "    }\n",
              "\n",
              "    .dataframe tbody tr th {\n",
              "        vertical-align: top;\n",
              "    }\n",
              "\n",
              "    .dataframe thead th {\n",
              "        text-align: right;\n",
              "    }\n",
              "</style>\n",
              "<table border=\"1\" class=\"dataframe\">\n",
              "  <thead>\n",
              "    <tr style=\"text-align: right;\">\n",
              "      <th></th>\n",
              "      <th>Nama Lengkap</th>\n",
              "      <th>Usia/Umur</th>\n",
              "      <th>Jenis Kelamin</th>\n",
              "      <th>Pekerjaan saat ini</th>\n",
              "      <th>Hobi Yang Anda Minati</th>\n",
              "      <th>Gaji Yang Anda Inginkan</th>\n",
              "      <th>Apakah Anda Lebih Suka Bekerja Di Desa Atau Di Kota</th>\n",
              "      <th>Anda Lebih Tertarik Pada Bidang?</th>\n",
              "      <th>Manakah Yang Lebih Anda Tertarik</th>\n",
              "      <th>Keterampilan Apa Yang Anda Miliki Serta Yang Ingin Anda Kembangkan.</th>\n",
              "    </tr>\n",
              "  </thead>\n",
              "  <tbody>\n",
              "    <tr>\n",
              "      <th>106</th>\n",
              "      <td>Adhe Rizky Fauzie</td>\n",
              "      <td>17</td>\n",
              "      <td>Perempuan</td>\n",
              "      <td>Pelajar</td>\n",
              "      <td>Olahraga basket</td>\n",
              "      <td>1500000.0</td>\n",
              "      <td>kota</td>\n",
              "      <td>Seni</td>\n",
              "      <td>Teknologi</td>\n",
              "      <td>Bermain basket,ingin berkembang</td>\n",
              "    </tr>\n",
              "    <tr>\n",
              "      <th>107</th>\n",
              "      <td>Adiba Dewi Yusifa</td>\n",
              "      <td>19</td>\n",
              "      <td>Perempuan</td>\n",
              "      <td>Wiraswasta</td>\n",
              "      <td>Rebahan, healing</td>\n",
              "      <td>2000000.0</td>\n",
              "      <td>kota</td>\n",
              "      <td>Akademik</td>\n",
              "      <td>HUKUM</td>\n",
              "      <td>Keterampilan berusaha, skill</td>\n",
              "    </tr>\n",
              "    <tr>\n",
              "      <th>178</th>\n",
              "      <td>Adin Rafael Lyano</td>\n",
              "      <td>19</td>\n",
              "      <td>Pria</td>\n",
              "      <td>Mahasiswa</td>\n",
              "      <td>sepak bola</td>\n",
              "      <td>5000000.0</td>\n",
              "      <td>kota</td>\n",
              "      <td>Non Akademik</td>\n",
              "      <td>Teknologi</td>\n",
              "      <td>bermain sepak bolaa</td>\n",
              "    </tr>\n",
              "    <tr>\n",
              "      <th>43</th>\n",
              "      <td>Aqila Tri Annur Fadillah</td>\n",
              "      <td>19</td>\n",
              "      <td>Perempuan</td>\n",
              "      <td>Mahasiswa</td>\n",
              "      <td>Berenang</td>\n",
              "      <td>3500000.0</td>\n",
              "      <td>kota</td>\n",
              "      <td>Non Akademik</td>\n",
              "      <td>Teknologi</td>\n",
              "      <td>Gatau</td>\n",
              "    </tr>\n",
              "    <tr>\n",
              "      <th>291</th>\n",
              "      <td>Aan</td>\n",
              "      <td>28</td>\n",
              "      <td>Pria</td>\n",
              "      <td>Pengusaha</td>\n",
              "      <td>Bermain piano</td>\n",
              "      <td>3000000.0</td>\n",
              "      <td>kota</td>\n",
              "      <td>Seni</td>\n",
              "      <td>Teknologi</td>\n",
              "      <td>Bermain piano</td>\n",
              "    </tr>\n",
              "    <tr>\n",
              "      <th>202</th>\n",
              "      <td>Ade Rahmawati</td>\n",
              "      <td>27</td>\n",
              "      <td>Perempuan</td>\n",
              "      <td>Ahli Gizi</td>\n",
              "      <td>fotografi</td>\n",
              "      <td>1400000.0</td>\n",
              "      <td>kota</td>\n",
              "      <td>Sains</td>\n",
              "      <td>Teknologi</td>\n",
              "      <td>berfoto</td>\n",
              "    </tr>\n",
              "    <tr>\n",
              "      <th>230</th>\n",
              "      <td>Ade Rezky Supriadi</td>\n",
              "      <td>19</td>\n",
              "      <td>Pria</td>\n",
              "      <td>Mahasiswa</td>\n",
              "      <td>Membaca buku</td>\n",
              "      <td>9000000.0</td>\n",
              "      <td>kota</td>\n",
              "      <td>Non Akademik</td>\n",
              "      <td>Matematika</td>\n",
              "      <td>Bermain musik</td>\n",
              "    </tr>\n",
              "    <tr>\n",
              "      <th>271</th>\n",
              "      <td>Ade Sulastri</td>\n",
              "      <td>19</td>\n",
              "      <td>Perempuan</td>\n",
              "      <td>Mahasiswi</td>\n",
              "      <td>Berenang</td>\n",
              "      <td>8000000.0</td>\n",
              "      <td>kota</td>\n",
              "      <td>Seni</td>\n",
              "      <td>Teknik</td>\n",
              "      <td>Ingin menjadi chef</td>\n",
              "    </tr>\n",
              "    <tr>\n",
              "      <th>225</th>\n",
              "      <td>Adinda Septyani</td>\n",
              "      <td>19</td>\n",
              "      <td>Perempuan</td>\n",
              "      <td>Mahasiswi</td>\n",
              "      <td>Bulutangkis</td>\n",
              "      <td>6000000.0</td>\n",
              "      <td>kota</td>\n",
              "      <td>Non Akademik</td>\n",
              "      <td>Teknologi</td>\n",
              "      <td>Bulutangkis</td>\n",
              "    </tr>\n",
              "    <tr>\n",
              "      <th>258</th>\n",
              "      <td>Adiva Arsyila Savina</td>\n",
              "      <td>19</td>\n",
              "      <td>Perempuan</td>\n",
              "      <td>Mahasiswa</td>\n",
              "      <td>Baca novel</td>\n",
              "      <td>5000000.0</td>\n",
              "      <td>kota</td>\n",
              "      <td>Seni</td>\n",
              "      <td>Teknik</td>\n",
              "      <td>Menyanyi</td>\n",
              "    </tr>\n",
              "  </tbody>\n",
              "</table>\n",
              "</div>\n",
              "    <div class=\"colab-df-buttons\">\n",
              "\n",
              "  <div class=\"colab-df-container\">\n",
              "    <button class=\"colab-df-convert\" onclick=\"convertToInteractive('df-78b24243-f854-4060-9de2-5991c3d85f7a')\"\n",
              "            title=\"Convert this dataframe to an interactive table.\"\n",
              "            style=\"display:none;\">\n",
              "\n",
              "  <svg xmlns=\"http://www.w3.org/2000/svg\" height=\"24px\" viewBox=\"0 -960 960 960\">\n",
              "    <path d=\"M120-120v-720h720v720H120Zm60-500h600v-160H180v160Zm220 220h160v-160H400v160Zm0 220h160v-160H400v160ZM180-400h160v-160H180v160Zm440 0h160v-160H620v160ZM180-180h160v-160H180v160Zm440 0h160v-160H620v160Z\"/>\n",
              "  </svg>\n",
              "    </button>\n",
              "\n",
              "  <style>\n",
              "    .colab-df-container {\n",
              "      display:flex;\n",
              "      gap: 12px;\n",
              "    }\n",
              "\n",
              "    .colab-df-convert {\n",
              "      background-color: #E8F0FE;\n",
              "      border: none;\n",
              "      border-radius: 50%;\n",
              "      cursor: pointer;\n",
              "      display: none;\n",
              "      fill: #1967D2;\n",
              "      height: 32px;\n",
              "      padding: 0 0 0 0;\n",
              "      width: 32px;\n",
              "    }\n",
              "\n",
              "    .colab-df-convert:hover {\n",
              "      background-color: #E2EBFA;\n",
              "      box-shadow: 0px 1px 2px rgba(60, 64, 67, 0.3), 0px 1px 3px 1px rgba(60, 64, 67, 0.15);\n",
              "      fill: #174EA6;\n",
              "    }\n",
              "\n",
              "    .colab-df-buttons div {\n",
              "      margin-bottom: 4px;\n",
              "    }\n",
              "\n",
              "    [theme=dark] .colab-df-convert {\n",
              "      background-color: #3B4455;\n",
              "      fill: #D2E3FC;\n",
              "    }\n",
              "\n",
              "    [theme=dark] .colab-df-convert:hover {\n",
              "      background-color: #434B5C;\n",
              "      box-shadow: 0px 1px 3px 1px rgba(0, 0, 0, 0.15);\n",
              "      filter: drop-shadow(0px 1px 2px rgba(0, 0, 0, 0.3));\n",
              "      fill: #FFFFFF;\n",
              "    }\n",
              "  </style>\n",
              "\n",
              "    <script>\n",
              "      const buttonEl =\n",
              "        document.querySelector('#df-78b24243-f854-4060-9de2-5991c3d85f7a button.colab-df-convert');\n",
              "      buttonEl.style.display =\n",
              "        google.colab.kernel.accessAllowed ? 'block' : 'none';\n",
              "\n",
              "      async function convertToInteractive(key) {\n",
              "        const element = document.querySelector('#df-78b24243-f854-4060-9de2-5991c3d85f7a');\n",
              "        const dataTable =\n",
              "          await google.colab.kernel.invokeFunction('convertToInteractive',\n",
              "                                                    [key], {});\n",
              "        if (!dataTable) return;\n",
              "\n",
              "        const docLinkHtml = 'Like what you see? Visit the ' +\n",
              "          '<a target=\"_blank\" href=https://colab.research.google.com/notebooks/data_table.ipynb>data table notebook</a>'\n",
              "          + ' to learn more about interactive tables.';\n",
              "        element.innerHTML = '';\n",
              "        dataTable['output_type'] = 'display_data';\n",
              "        await google.colab.output.renderOutput(dataTable, element);\n",
              "        const docLink = document.createElement('div');\n",
              "        docLink.innerHTML = docLinkHtml;\n",
              "        element.appendChild(docLink);\n",
              "      }\n",
              "    </script>\n",
              "  </div>\n",
              "\n",
              "\n",
              "    <div id=\"df-563544af-7333-42c5-b35f-21d102b7416b\">\n",
              "      <button class=\"colab-df-quickchart\" onclick=\"quickchart('df-563544af-7333-42c5-b35f-21d102b7416b')\"\n",
              "                title=\"Suggest charts\"\n",
              "                style=\"display:none;\">\n",
              "\n",
              "<svg xmlns=\"http://www.w3.org/2000/svg\" height=\"24px\"viewBox=\"0 0 24 24\"\n",
              "     width=\"24px\">\n",
              "    <g>\n",
              "        <path d=\"M19 3H5c-1.1 0-2 .9-2 2v14c0 1.1.9 2 2 2h14c1.1 0 2-.9 2-2V5c0-1.1-.9-2-2-2zM9 17H7v-7h2v7zm4 0h-2V7h2v10zm4 0h-2v-4h2v4z\"/>\n",
              "    </g>\n",
              "</svg>\n",
              "      </button>\n",
              "\n",
              "<style>\n",
              "  .colab-df-quickchart {\n",
              "      --bg-color: #E8F0FE;\n",
              "      --fill-color: #1967D2;\n",
              "      --hover-bg-color: #E2EBFA;\n",
              "      --hover-fill-color: #174EA6;\n",
              "      --disabled-fill-color: #AAA;\n",
              "      --disabled-bg-color: #DDD;\n",
              "  }\n",
              "\n",
              "  [theme=dark] .colab-df-quickchart {\n",
              "      --bg-color: #3B4455;\n",
              "      --fill-color: #D2E3FC;\n",
              "      --hover-bg-color: #434B5C;\n",
              "      --hover-fill-color: #FFFFFF;\n",
              "      --disabled-bg-color: #3B4455;\n",
              "      --disabled-fill-color: #666;\n",
              "  }\n",
              "\n",
              "  .colab-df-quickchart {\n",
              "    background-color: var(--bg-color);\n",
              "    border: none;\n",
              "    border-radius: 50%;\n",
              "    cursor: pointer;\n",
              "    display: none;\n",
              "    fill: var(--fill-color);\n",
              "    height: 32px;\n",
              "    padding: 0;\n",
              "    width: 32px;\n",
              "  }\n",
              "\n",
              "  .colab-df-quickchart:hover {\n",
              "    background-color: var(--hover-bg-color);\n",
              "    box-shadow: 0 1px 2px rgba(60, 64, 67, 0.3), 0 1px 3px 1px rgba(60, 64, 67, 0.15);\n",
              "    fill: var(--button-hover-fill-color);\n",
              "  }\n",
              "\n",
              "  .colab-df-quickchart-complete:disabled,\n",
              "  .colab-df-quickchart-complete:disabled:hover {\n",
              "    background-color: var(--disabled-bg-color);\n",
              "    fill: var(--disabled-fill-color);\n",
              "    box-shadow: none;\n",
              "  }\n",
              "\n",
              "  .colab-df-spinner {\n",
              "    border: 2px solid var(--fill-color);\n",
              "    border-color: transparent;\n",
              "    border-bottom-color: var(--fill-color);\n",
              "    animation:\n",
              "      spin 1s steps(1) infinite;\n",
              "  }\n",
              "\n",
              "  @keyframes spin {\n",
              "    0% {\n",
              "      border-color: transparent;\n",
              "      border-bottom-color: var(--fill-color);\n",
              "      border-left-color: var(--fill-color);\n",
              "    }\n",
              "    20% {\n",
              "      border-color: transparent;\n",
              "      border-left-color: var(--fill-color);\n",
              "      border-top-color: var(--fill-color);\n",
              "    }\n",
              "    30% {\n",
              "      border-color: transparent;\n",
              "      border-left-color: var(--fill-color);\n",
              "      border-top-color: var(--fill-color);\n",
              "      border-right-color: var(--fill-color);\n",
              "    }\n",
              "    40% {\n",
              "      border-color: transparent;\n",
              "      border-right-color: var(--fill-color);\n",
              "      border-top-color: var(--fill-color);\n",
              "    }\n",
              "    60% {\n",
              "      border-color: transparent;\n",
              "      border-right-color: var(--fill-color);\n",
              "    }\n",
              "    80% {\n",
              "      border-color: transparent;\n",
              "      border-right-color: var(--fill-color);\n",
              "      border-bottom-color: var(--fill-color);\n",
              "    }\n",
              "    90% {\n",
              "      border-color: transparent;\n",
              "      border-bottom-color: var(--fill-color);\n",
              "    }\n",
              "  }\n",
              "</style>\n",
              "\n",
              "      <script>\n",
              "        async function quickchart(key) {\n",
              "          const quickchartButtonEl =\n",
              "            document.querySelector('#' + key + ' button');\n",
              "          quickchartButtonEl.disabled = true;  // To prevent multiple clicks.\n",
              "          quickchartButtonEl.classList.add('colab-df-spinner');\n",
              "          try {\n",
              "            const charts = await google.colab.kernel.invokeFunction(\n",
              "                'suggestCharts', [key], {});\n",
              "          } catch (error) {\n",
              "            console.error('Error during call to suggestCharts:', error);\n",
              "          }\n",
              "          quickchartButtonEl.classList.remove('colab-df-spinner');\n",
              "          quickchartButtonEl.classList.add('colab-df-quickchart-complete');\n",
              "        }\n",
              "        (() => {\n",
              "          let quickchartButtonEl =\n",
              "            document.querySelector('#df-563544af-7333-42c5-b35f-21d102b7416b button');\n",
              "          quickchartButtonEl.style.display =\n",
              "            google.colab.kernel.accessAllowed ? 'block' : 'none';\n",
              "        })();\n",
              "      </script>\n",
              "    </div>\n",
              "\n",
              "    </div>\n",
              "  </div>\n"
            ],
            "application/vnd.google.colaboratory.intrinsic+json": {
              "type": "dataframe",
              "variable_name": "df_clean",
              "summary": "{\n  \"name\": \"df_clean\",\n  \"rows\": 472,\n  \"fields\": [\n    {\n      \"column\": \"Nama Lengkap\",\n      \"properties\": {\n        \"dtype\": \"string\",\n        \"num_unique_values\": 457,\n        \"samples\": [\n          \"Puja Ayu Lestari \",\n          \"Alvinsyah\",\n          \"Salsabila Putri\"\n        ],\n        \"semantic_type\": \"\",\n        \"description\": \"\"\n      }\n    },\n    {\n      \"column\": \"Usia/Umur\",\n      \"properties\": {\n        \"dtype\": \"category\",\n        \"num_unique_values\": 35,\n        \"samples\": [\n          \"50\",\n          \"29\",\n          \"38\"\n        ],\n        \"semantic_type\": \"\",\n        \"description\": \"\"\n      }\n    },\n    {\n      \"column\": \"Jenis Kelamin\",\n      \"properties\": {\n        \"dtype\": \"category\",\n        \"num_unique_values\": 4,\n        \"samples\": [\n          \"Pria\",\n          \"perempuan\",\n          \"Perempuan\"\n        ],\n        \"semantic_type\": \"\",\n        \"description\": \"\"\n      }\n    },\n    {\n      \"column\": \"Pekerjaan saat ini\",\n      \"properties\": {\n        \"dtype\": \"category\",\n        \"num_unique_values\": 104,\n        \"samples\": [\n          \"Wirausaha\",\n          \"Belum Bekerja\",\n          \"Blm Ada\"\n        ],\n        \"semantic_type\": \"\",\n        \"description\": \"\"\n      }\n    },\n    {\n      \"column\": \"Hobi Yang Anda Minati\",\n      \"properties\": {\n        \"dtype\": \"category\",\n        \"num_unique_values\": 216,\n        \"samples\": [\n          \"balapan\",\n          \"menulis\",\n          \"Berolahraga\"\n        ],\n        \"semantic_type\": \"\",\n        \"description\": \"\"\n      }\n    },\n    {\n      \"column\": \"Gaji Yang Anda Inginkan\",\n      \"properties\": {\n        \"dtype\": \"number\",\n        \"std\": 2767216.59004424,\n        \"min\": 0.0,\n        \"max\": 9999900.0,\n        \"num_unique_values\": 38,\n        \"samples\": [\n          5700000.0,\n          5800000.0,\n          3000000.0\n        ],\n        \"semantic_type\": \"\",\n        \"description\": \"\"\n      }\n    },\n    {\n      \"column\": \"Apakah Anda Lebih Suka Bekerja Di Desa Atau Di Kota\",\n      \"properties\": {\n        \"dtype\": \"category\",\n        \"num_unique_values\": 2,\n        \"samples\": [\n          \"desa\",\n          \"kota\"\n        ],\n        \"semantic_type\": \"\",\n        \"description\": \"\"\n      }\n    },\n    {\n      \"column\": \"Anda Lebih Tertarik Pada Bidang?\",\n      \"properties\": {\n        \"dtype\": \"category\",\n        \"num_unique_values\": 4,\n        \"samples\": [\n          \"Akademik\",\n          \"Sains\"\n        ],\n        \"semantic_type\": \"\",\n        \"description\": \"\"\n      }\n    },\n    {\n      \"column\": \"Manakah Yang Lebih Anda Tertarik \",\n      \"properties\": {\n        \"dtype\": \"category\",\n        \"num_unique_values\": 20,\n        \"samples\": [\n          \"Teknologi\",\n          \"Psikolog\"\n        ],\n        \"semantic_type\": \"\",\n        \"description\": \"\"\n      }\n    },\n    {\n      \"column\": \"Keterampilan Apa Yang Anda Miliki Serta Yang Ingin Anda Kembangkan. \",\n      \"properties\": {\n        \"dtype\": \"string\",\n        \"num_unique_values\": 267,\n        \"samples\": [\n          \"Membangun lapangan pekerjaan\",\n          \"Membuat kopi\"\n        ],\n        \"semantic_type\": \"\",\n        \"description\": \"\"\n      }\n    }\n  ]\n}"
            }
          },
          "metadata": {},
          "execution_count": 15
        }
      ]
    },
    {
      "cell_type": "markdown",
      "source": [
        "#15. Data disimpan ke Excel"
      ],
      "metadata": {
        "id": "N2fhyCW8RRLK"
      }
    },
    {
      "cell_type": "code",
      "source": [
        "# Simpan ke Excel\n",
        "df_clean.to_excel(\"data_bersih.xlsx\", index=False)\n",
        "\n",
        "print(\"Data sudah berhasil disimpan!\")\n"
      ],
      "metadata": {
        "colab": {
          "base_uri": "https://localhost:8080/"
        },
        "id": "Q9OTPJztRcL5",
        "outputId": "ff74d624-bd88-4410-fd0e-beced3e67672"
      },
      "execution_count": null,
      "outputs": [
        {
          "output_type": "stream",
          "name": "stdout",
          "text": [
            "Data sudah berhasil disimpan!\n"
          ]
        }
      ]
    }
  ]
}